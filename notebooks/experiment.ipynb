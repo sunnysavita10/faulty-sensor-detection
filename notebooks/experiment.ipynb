{
 "cells": [
  {
   "cell_type": "code",
   "execution_count": 23,
   "metadata": {},
   "outputs": [],
   "source": [
    "from from_root import from_root\n",
    "import logging"
   ]
  },
  {
   "cell_type": "code",
   "execution_count": 12,
   "metadata": {},
   "outputs": [],
   "source": [
    "LOG_DIR=\"logs\""
   ]
  },
  {
   "cell_type": "code",
   "execution_count": 17,
   "metadata": {},
   "outputs": [],
   "source": [
    "from datetime import datetime\n",
    "LOG_FILE = f\"{datetime.now().strftime('%m_%d_%Y_%H_%M_%S')}.log\""
   ]
  },
  {
   "cell_type": "code",
   "execution_count": 18,
   "metadata": {},
   "outputs": [
    {
     "data": {
      "text/plain": [
       "'11_04_2022_00_33_57.log'"
      ]
     },
     "execution_count": 18,
     "metadata": {},
     "output_type": "execute_result"
    }
   ],
   "source": [
    "LOG_FILE"
   ]
  },
  {
   "cell_type": "code",
   "execution_count": null,
   "metadata": {},
   "outputs": [],
   "source": []
  },
  {
   "cell_type": "code",
   "execution_count": 13,
   "metadata": {},
   "outputs": [],
   "source": [
    "import os\n",
    "\n",
    "logs_path=os.path.join(from_root(),LOG_DIR)"
   ]
  },
  {
   "cell_type": "code",
   "execution_count": 14,
   "metadata": {},
   "outputs": [
    {
     "data": {
      "text/plain": [
       "'C:\\\\Users\\\\sunny\\\\faulty-sensor-detection\\\\logs'"
      ]
     },
     "execution_count": 14,
     "metadata": {},
     "output_type": "execute_result"
    }
   ],
   "source": [
    "logs_path"
   ]
  },
  {
   "cell_type": "code",
   "execution_count": 19,
   "metadata": {},
   "outputs": [],
   "source": [
    "os.makedirs(logs_path, exist_ok=True)"
   ]
  },
  {
   "cell_type": "code",
   "execution_count": 21,
   "metadata": {},
   "outputs": [],
   "source": [
    "\n",
    "LOG_FILE_PATH=os.path.join(logs_path,LOG_FILE)"
   ]
  },
  {
   "cell_type": "code",
   "execution_count": 22,
   "metadata": {},
   "outputs": [
    {
     "data": {
      "text/plain": [
       "'C:\\\\Users\\\\sunny\\\\faulty-sensor-detection\\\\logs\\\\11_04_2022_00_33_57.log'"
      ]
     },
     "execution_count": 22,
     "metadata": {},
     "output_type": "execute_result"
    }
   ],
   "source": [
    "LOG_FILE_PATH"
   ]
  },
  {
   "cell_type": "code",
   "execution_count": 24,
   "metadata": {},
   "outputs": [],
   "source": [
    "logging.basicConfig(\n",
    "    filename=LOG_FILE_PATH,\n",
    "    format=\"[ %(asctime)s ] %(name)s - %(levelname)s - %(message)s\",\n",
    "    level=logging.INFO,\n",
    ")\n"
   ]
  },
  {
   "cell_type": "code",
   "execution_count": 25,
   "metadata": {},
   "outputs": [
    {
     "data": {
      "text/plain": [
       "(None, None, None)"
      ]
     },
     "execution_count": 25,
     "metadata": {},
     "output_type": "execute_result"
    }
   ],
   "source": [
    "import sys\n",
    "sys.exc_info()"
   ]
  },
  {
   "cell_type": "code",
   "execution_count": 28,
   "metadata": {},
   "outputs": [
    {
     "name": "stdout",
     "output_type": "stream",
     "text": [
      "Exception class: <class 'ZeroDivisionError'>\n",
      "Exception message: division by zero\n",
      "Line number: 5\n",
      "Div is  0.5\n"
     ]
    }
   ],
   "source": [
    "while(True):\n",
    "\ttry:\n",
    "\t\ta=int(input(\"Input first no:\"))\n",
    "\t\tb=int(input(\"Input second no:\"))\n",
    "\t\tc=a/b\n",
    "\t\tprint(\"Div is \",c)\n",
    "\t\tbreak;\n",
    "\texcept:\n",
    "\t\ta,b,c=sys.exc_info()\n",
    "\t\tprint(\"Exception class:\",a)\n",
    "\t\tprint(\"Exception message:\",b)\n",
    "\t\tprint(\"Line number:\",c.tb_lineno) "
   ]
  },
  {
   "cell_type": "code",
   "execution_count": 17,
   "metadata": {},
   "outputs": [],
   "source": [
    "class AppException(Exception):\n",
    "    def __init__(self,error_message,module_name):\n",
    "        self.error_message = AppException.error_message_detail(error_message,error_detail=module_name)\n",
    "        \n",
    "    @staticmethod\n",
    "    def error_message_detail(error,error_detail):\n",
    "        _,_,exc_tb = error_detail.exc_info()\n",
    "        file_name = exc_tb.tb_frame.f_code.co_filename \n",
    "\n",
    "        #preparing error message\n",
    "        error_message = f\"Error occurred python script name [{file_name}]\" \\\n",
    "                        f\" line number [{exc_tb.tb_lineno}] error message [{error}].\"\n",
    "\n",
    "        return error_message\n",
    "\n",
    "    def __repr__(self):\n",
    "        \"\"\"\n",
    "        Formating object of AppException\n",
    "        \"\"\"\n",
    "        return AppException.__name__.__str__()\n",
    "\n",
    "    def __str__(self):\n",
    "        \"\"\"\n",
    "        Formating how a object should be visible if used in print statement.\n",
    "        \"\"\"\n",
    "        return self.error_message\n",
    "        \n",
    "        "
   ]
  },
  {
   "cell_type": "code",
   "execution_count": 18,
   "metadata": {},
   "outputs": [
    {
     "ename": "AppException",
     "evalue": "Error occurred python script name [C:\\Users\\sunny\\AppData\\Local\\Temp\\ipykernel_40672\\3300225765.py] line number [4] error message [division by zero].",
     "output_type": "error",
     "traceback": [
      "\u001b[1;31m---------------------------------------------------------------------------\u001b[0m",
      "\u001b[1;31mZeroDivisionError\u001b[0m                         Traceback (most recent call last)",
      "Cell \u001b[1;32mIn [18], line 4\u001b[0m\n\u001b[0;32m      3\u001b[0m b\u001b[39m=\u001b[39m\u001b[39mint\u001b[39m(\u001b[39minput\u001b[39m(\u001b[39m\"\u001b[39m\u001b[39mInput second no:\u001b[39m\u001b[39m\"\u001b[39m))\n\u001b[1;32m----> 4\u001b[0m c\u001b[39m=\u001b[39ma\u001b[39m/\u001b[39;49mb\n\u001b[0;32m      5\u001b[0m \u001b[39mprint\u001b[39m(\u001b[39m\"\u001b[39m\u001b[39mDiv is \u001b[39m\u001b[39m\"\u001b[39m,c)\n",
      "\u001b[1;31mZeroDivisionError\u001b[0m: division by zero",
      "\nThe above exception was the direct cause of the following exception:\n",
      "\u001b[1;31mAppException\u001b[0m                              Traceback (most recent call last)",
      "Cell \u001b[1;32mIn [18], line 8\u001b[0m\n\u001b[0;32m      5\u001b[0m     \u001b[39mprint\u001b[39m(\u001b[39m\"\u001b[39m\u001b[39mDiv is \u001b[39m\u001b[39m\"\u001b[39m,c)\n\u001b[0;32m      7\u001b[0m \u001b[39mexcept\u001b[39;00m \u001b[39mException\u001b[39;00m \u001b[39mas\u001b[39;00m e:\n\u001b[1;32m----> 8\u001b[0m     \u001b[39mraise\u001b[39;00m AppException(e,sys) \u001b[39mfrom\u001b[39;00m \u001b[39me\u001b[39;00m\n",
      "\u001b[1;31mAppException\u001b[0m: Error occurred python script name [C:\\Users\\sunny\\AppData\\Local\\Temp\\ipykernel_40672\\3300225765.py] line number [4] error message [division by zero]."
     ]
    }
   ],
   "source": [
    "try:\n",
    "    a=int(input(\"Input first no:\"))\n",
    "    b=int(input(\"Input second no:\"))\n",
    "    c=a/b\n",
    "    print(\"Div is \",c)\n",
    "\n",
    "except Exception as e:\n",
    "    raise AppException(e,sys) from e\n",
    "\t\t\n"
   ]
  },
  {
   "cell_type": "code",
   "execution_count": null,
   "metadata": {},
   "outputs": [],
   "source": [
    "try:\n",
    "    a=int(input(\"Input first no:\"))\n",
    "    b=int(input(\"Input second no:\"))\n",
    "    c=a/b\n",
    "    print(\"Div is \",c)\n",
    "\n",
    "except Exception as e:\n",
    "    raise AppException(e,sys) from e"
   ]
  },
  {
   "cell_type": "code",
   "execution_count": 11,
   "metadata": {},
   "outputs": [
    {
     "name": "stdout",
     "output_type": "stream",
     "text": [
      "division by zero\n"
     ]
    }
   ],
   "source": [
    "try:\n",
    "    a=int(input(\"Input first no:\"))\n",
    "    b=int(input(\"Input second no:\"))\n",
    "    c=a/b\n",
    "    print(\"Div is \",c)\n",
    "\n",
    "except Exception as e:\n",
    "    print(e)"
   ]
  },
  {
   "cell_type": "code",
   "execution_count": 16,
   "metadata": {},
   "outputs": [
    {
     "name": "stdout",
     "output_type": "stream",
     "text": [
      "4\n",
      "<frame at 0x00000255BCDC2EA0, file 'C:\\\\Users\\\\sunny\\\\AppData\\\\Local\\\\Temp\\\\ipykernel_40672\\\\562420001.py', line 10, code <module>>\n"
     ]
    }
   ],
   "source": [
    "try:\n",
    "    a=int(input(\"Input first no:\"))\n",
    "    b=int(input(\"Input second no:\"))\n",
    "    c=a/b\n",
    "    print(\"Div is \",c)\n",
    "\n",
    "except Exception as e:\n",
    "    a,b,c=sys.exc_info()\n",
    "    print(c.tb_lineno)\n",
    "    print(c.tb_frame)"
   ]
  },
  {
   "cell_type": "code",
   "execution_count": 28,
   "metadata": {},
   "outputs": [],
   "source": [
    "class abc:\n",
    "    def __init__(self):\n",
    "        pass\n",
    "    def __str__(self) -> str:\n",
    "        return \"sunny\"\n",
    "    \n",
    "    def __repr__(self) -> str:\n",
    "        #return \"savita\"\n",
    "        return abc.__name__.__str__()"
   ]
  },
  {
   "cell_type": "code",
   "execution_count": 30,
   "metadata": {},
   "outputs": [
    {
     "data": {
      "text/plain": [
       "abc"
      ]
     },
     "execution_count": 30,
     "metadata": {},
     "output_type": "execute_result"
    }
   ],
   "source": [
    "abc()"
   ]
  },
  {
   "cell_type": "code",
   "execution_count": null,
   "metadata": {},
   "outputs": [],
   "source": []
  }
 ],
 "metadata": {
  "kernelspec": {
   "display_name": "Python 3.8.13 (conda)",
   "language": "python",
   "name": "python3"
  },
  "language_info": {
   "codemirror_mode": {
    "name": "ipython",
    "version": 3
   },
   "file_extension": ".py",
   "mimetype": "text/x-python",
   "name": "python",
   "nbconvert_exporter": "python",
   "pygments_lexer": "ipython3",
   "version": "3.8.13"
  },
  "orig_nbformat": 4,
  "vscode": {
   "interpreter": {
    "hash": "e5a79eee8430b581875bd61e300aabf3891ce76eaac1c57a58c628013e167e5b"
   }
  }
 },
 "nbformat": 4,
 "nbformat_minor": 2
}
